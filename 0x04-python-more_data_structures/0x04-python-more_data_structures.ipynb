{
 "cells": [
  {
   "cell_type": "code",
   "execution_count": 11,
   "metadata": {},
   "outputs": [],
   "source": [
    "from task import Task"
   ]
  },
  {
   "cell_type": "code",
   "execution_count": 12,
   "metadata": {},
   "outputs": [],
   "source": [
    "tasks = {}"
   ]
  },
  {
   "cell_type": "markdown",
   "metadata": {},
   "source": [
    "## 0. Squared simple\n",
    "\n",
    "Write a function that computes the square value of all integers of a matrix.\n",
    "\n",
    "`square_matrix_simple(matrix=[])`\n",
    "\n",
    "* matrix is a 2 dimensional array\n",
    "* Returns a new matrix:\n",
    "* Same size as matrix\n",
    "* Each value should be the square of the value of the input\n",
    "* Initial matrix should not be modified\n",
    "* You are not allowed to import any module\n",
    "* You are allowed to use regular loops, map, etc."
   ]
  },
  {
   "cell_type": "code",
   "execution_count": 13,
   "metadata": {
    "scrolled": true
   },
   "outputs": [],
   "source": [
    "def square_matrix_simple(matrix=[]):\n",
    "    \"\"\" Compute a new matrix with each element squared\n",
    "    \"\"\"\n",
    "    if matrix is not None:\n",
    "        return list(map(\n",
    "            lambda row: list(map(\n",
    "                lambda x: x ** 2, row\n",
    "            )),\n",
    "            matrix\n",
    "        ))\n",
    "    return None"
   ]
  },
  {
   "cell_type": "code",
   "execution_count": 14,
   "metadata": {},
   "outputs": [],
   "source": [
    "def main():\n",
    "    matrix = [\n",
    "        [1, 2, 3],\n",
    "        [4, 5, 6],\n",
    "        [7, 8, 9]\n",
    "    ]\n",
    "    \n",
    "    new_matrix = square_matrix_simple(matrix)\n",
    "    print(new_matrix)\n",
    "    print(matrix)\n",
    "    \n",
    "    new_matrix = square_matrix_simple([])\n",
    "    print(new_matrix)\n",
    "    print(matrix)\n",
    "    \n",
    "    new_matrix = square_matrix_simple(None)\n",
    "    print(new_matrix)\n",
    "    print(matrix)\n",
    "    \n",
    "    new_matrix = square_matrix_simple([[]])\n",
    "    print(new_matrix)\n",
    "    print(matrix)"
   ]
  },
  {
   "cell_type": "code",
   "execution_count": 15,
   "metadata": {},
   "outputs": [],
   "source": [
    "tasks[0] = Task(square_matrix_simple, main=main)"
   ]
  },
  {
   "cell_type": "code",
   "execution_count": 121,
   "metadata": {
    "scrolled": true
   },
   "outputs": [
    {
     "data": {
      "text/plain": [
       "task.Task(func=square_matrix_simple, main=main)"
      ]
     },
     "execution_count": 121,
     "metadata": {},
     "output_type": "execute_result"
    }
   ],
   "source": [
    "tasks[0]()"
   ]
  },
  {
   "cell_type": "markdown",
   "metadata": {},
   "source": [
    "## 1. Search and replace\n",
    "\n",
    "Write a function that replaces all occurrences of an element by another in a new list.\n",
    "\n",
    "`search_replace(my_list, search, replace)`\n",
    "\n",
    "* my_list is the initial list\n",
    "* search is the element to replace in the list\n",
    "* replace is the new element\n",
    "* You are not allowed to import any module"
   ]
  },
  {
   "cell_type": "code",
   "execution_count": 17,
   "metadata": {},
   "outputs": [],
   "source": [
    "def search_replace(my_list, search, replace):\n",
    "    \"\"\" Create a new list with all occurrences of an element replaced\n",
    "    \"\"\"\n",
    "    if my_list is not None:\n",
    "        return [x if x != search else replace for x in my_list]\n",
    "    return None"
   ]
  },
  {
   "cell_type": "code",
   "execution_count": 18,
   "metadata": {},
   "outputs": [],
   "source": [
    "def main():\n",
    "    my_list = [1, 2, 3, 4, 5, 4, 2, 1, 1, 4, 89]\n",
    "    new_list = search_replace(my_list, 2, 89)\n",
    "\n",
    "    print(new_list)\n",
    "    print(my_list)"
   ]
  },
  {
   "cell_type": "code",
   "execution_count": 19,
   "metadata": {},
   "outputs": [],
   "source": [
    "tasks[1] = Task(search_replace, main=main)"
   ]
  },
  {
   "cell_type": "code",
   "execution_count": 20,
   "metadata": {},
   "outputs": [
    {
     "name": "stdout",
     "output_type": "stream",
     "text": [
      "[1, 89, 3, 4, 5, 4, 89, 1, 1, 4, 89]\n",
      "[1, 2, 3, 4, 5, 4, 2, 1, 1, 4, 89]\n"
     ]
    }
   ],
   "source": [
    "tasks[1]()"
   ]
  },
  {
   "cell_type": "markdown",
   "metadata": {},
   "source": [
    "## 2. Unique addition\n",
    "\n",
    "Write a function that adds all unique integers in a list (only once for each integer).\n",
    "\n",
    "`uniq_add(my_list=[])`\n",
    "\n",
    "* You are not allowed to import any module"
   ]
  },
  {
   "cell_type": "code",
   "execution_count": 21,
   "metadata": {},
   "outputs": [],
   "source": [
    "def uniq_add(my_list=[]):\n",
    "    \"\"\" Sum all unique integers in a list\n",
    "    \"\"\"\n",
    "    if my_list is not None:\n",
    "        return sum(set(my_list))\n",
    "    return None"
   ]
  },
  {
   "cell_type": "code",
   "execution_count": 22,
   "metadata": {},
   "outputs": [],
   "source": [
    "def main():\n",
    "    my_list = [1, 2, 3, 1, 4, 2, 5]\n",
    "    result = uniq_add(my_list)\n",
    "    print(\"Result: {:d}\".format(result))"
   ]
  },
  {
   "cell_type": "code",
   "execution_count": 23,
   "metadata": {},
   "outputs": [],
   "source": [
    "tasks[2] = Task(uniq_add, main=main)"
   ]
  },
  {
   "cell_type": "code",
   "execution_count": 24,
   "metadata": {
    "scrolled": true
   },
   "outputs": [
    {
     "name": "stdout",
     "output_type": "stream",
     "text": [
      "Result: 15\n"
     ]
    }
   ],
   "source": [
    "tasks[2]()"
   ]
  },
  {
   "cell_type": "markdown",
   "metadata": {},
   "source": [
    "## 3. Present in both\n",
    "\n",
    "Write a function that returns a set of common elements in two sets.\n",
    "\n",
    "`common_elements(set_1, set_2)`\n",
    "\n",
    "* You are not allowed to import any module"
   ]
  },
  {
   "cell_type": "code",
   "execution_count": 25,
   "metadata": {},
   "outputs": [],
   "source": [
    "def common_elements(set_1, set_2):\n",
    "    \"\"\" Print the elements common to two sets (i.e. union)\n",
    "    \"\"\"\n",
    "    if set_1 is not None and set_2 is not None:\n",
    "        return set(set_1) & set(set_2)\n",
    "    return None"
   ]
  },
  {
   "cell_type": "code",
   "execution_count": 26,
   "metadata": {},
   "outputs": [],
   "source": [
    "def main():\n",
    "    set_1 = { \"Python\", \"C\", \"Javascript\" }\n",
    "    set_2 = { \"Bash\", \"C\", \"Ruby\", \"Perl\" }\n",
    "    c_set = common_elements(set_1, set_2)\n",
    "    print(sorted(list(c_set)))"
   ]
  },
  {
   "cell_type": "code",
   "execution_count": 27,
   "metadata": {},
   "outputs": [],
   "source": [
    "tasks[3] = Task(common_elements, main=main)"
   ]
  },
  {
   "cell_type": "code",
   "execution_count": 28,
   "metadata": {},
   "outputs": [
    {
     "name": "stdout",
     "output_type": "stream",
     "text": [
      "['C']\n"
     ]
    }
   ],
   "source": [
    "tasks[3]()"
   ]
  },
  {
   "cell_type": "markdown",
   "metadata": {},
   "source": [
    "## 4. Only differents\n",
    "\n",
    "Write a function that returns a set of all elements present in only one set.\n",
    "\n",
    "`only_diff_elements(set_1, set_2)`\n",
    "\n",
    "* You are not allowed to import any module"
   ]
  },
  {
   "cell_type": "code",
   "execution_count": 29,
   "metadata": {},
   "outputs": [],
   "source": [
    "def only_diff_elements(set_1, set_2):\n",
    "    \"\"\" Print the elements unique to each set (i.e. disjoint union)\n",
    "    \"\"\"\n",
    "    if set_1 is not None and set_2 is not None:\n",
    "        return set(set_1) ^ set(set_2)\n",
    "    return None"
   ]
  },
  {
   "cell_type": "code",
   "execution_count": 30,
   "metadata": {},
   "outputs": [],
   "source": [
    "def main():\n",
    "    set_1 = { \"Python\", \"C\", \"Javascript\" }\n",
    "    set_2 = { \"Bash\", \"C\", \"Ruby\", \"Perl\" }\n",
    "    od_set = only_diff_elements(set_1, set_2)\n",
    "    print(sorted(list(od_set)))"
   ]
  },
  {
   "cell_type": "code",
   "execution_count": 31,
   "metadata": {},
   "outputs": [],
   "source": [
    "tasks[4] = Task(only_diff_elements, main=main)"
   ]
  },
  {
   "cell_type": "code",
   "execution_count": 32,
   "metadata": {},
   "outputs": [
    {
     "name": "stdout",
     "output_type": "stream",
     "text": [
      "['Bash', 'Javascript', 'Perl', 'Python', 'Ruby']\n"
     ]
    }
   ],
   "source": [
    "tasks[4]()"
   ]
  },
  {
   "cell_type": "markdown",
   "metadata": {},
   "source": [
    "## 5. Number of keys\n",
    "\n",
    "Write a function that returns the number of keys in a dictionary.\n",
    "\n",
    "`number_keys(a_dictionary)`\n",
    "\n",
    "* You are not allowed to import any module"
   ]
  },
  {
   "cell_type": "code",
   "execution_count": 33,
   "metadata": {},
   "outputs": [],
   "source": [
    "def number_keys(a_dictionary):\n",
    "    \"\"\" Compute the number of keys in a dictionary\n",
    "    \"\"\"\n",
    "    if a_dictionary is not None:\n",
    "        return len(a_dictionary)\n",
    "    return None"
   ]
  },
  {
   "cell_type": "code",
   "execution_count": 34,
   "metadata": {},
   "outputs": [],
   "source": [
    "def main():\n",
    "    a_dictionary = { 'language': \"C\", 'number': 13, 'track': \"Low level\" }\n",
    "    nb_keys = number_keys(a_dictionary)\n",
    "    print(\"Number of keys: {:d}\".format(nb_keys))"
   ]
  },
  {
   "cell_type": "code",
   "execution_count": 35,
   "metadata": {},
   "outputs": [],
   "source": [
    "tasks[5] = Task(number_keys, main=main)"
   ]
  },
  {
   "cell_type": "code",
   "execution_count": 36,
   "metadata": {
    "scrolled": true
   },
   "outputs": [
    {
     "name": "stdout",
     "output_type": "stream",
     "text": [
      "Number of keys: 3\n"
     ]
    }
   ],
   "source": [
    "tasks[5]()"
   ]
  },
  {
   "cell_type": "markdown",
   "metadata": {},
   "source": [
    "## 6. Print sorted dictionary\n",
    "\n",
    "Write a function that prints a dictionary by ordered keys.\n",
    "\n",
    "`print_sorted_dictionary(a_dictionary)`\n",
    "\n",
    "* You can assume that all keys are strings\n",
    "* Keys should be sorted by alphabetic order\n",
    "* Only sort keys of the first level (don’t sort keys of a dictionary inside the main * dictionary)\n",
    "* Dictionary values can have any type\n",
    "* You are not allowed to import any module"
   ]
  },
  {
   "cell_type": "code",
   "execution_count": 37,
   "metadata": {},
   "outputs": [],
   "source": [
    "def print_sorted_dictionary(a_dictionary):\n",
    "    \"\"\" Print the entries in a dictionary sorted by key\n",
    "    \"\"\"\n",
    "    if a_dictionary is not None:\n",
    "        for pair in sorted(a_dictionary.items(), key=lambda key,*_: key):\n",
    "            print('{}: {}'.format(*pair))"
   ]
  },
  {
   "cell_type": "code",
   "execution_count": 38,
   "metadata": {},
   "outputs": [],
   "source": [
    "def main():\n",
    "    a_dictionary = { 'language': \"C\", 'Number': 89, 'track': \"Low level\", 'ids': [1, 2, 3] }\n",
    "    print_sorted_dictionary(a_dictionary)"
   ]
  },
  {
   "cell_type": "code",
   "execution_count": 39,
   "metadata": {},
   "outputs": [],
   "source": [
    "tasks[6] = Task(print_sorted_dictionary, main=main)"
   ]
  },
  {
   "cell_type": "code",
   "execution_count": 40,
   "metadata": {},
   "outputs": [
    {
     "name": "stdout",
     "output_type": "stream",
     "text": [
      "Number: 89\n",
      "ids: [1, 2, 3]\n",
      "language: C\n",
      "track: Low level\n"
     ]
    }
   ],
   "source": [
    "tasks[6]()"
   ]
  },
  {
   "cell_type": "markdown",
   "metadata": {},
   "source": [
    "## 7. Update dictionary\n",
    "\n",
    "Write a function that replaces or adds key/value in a dictionary.\n",
    "\n",
    "`update_dictionary(a_dictionary, key, value)`\n",
    "\n",
    "* key argument will be always a string\n",
    "* value argument will be any type\n",
    "* If a key exists in the dictionary, the value will be replaced\n",
    "* If a key doesn’t exist in the dictionary, it will be created\n",
    "* You are not allowed to import any module"
   ]
  },
  {
   "cell_type": "code",
   "execution_count": 41,
   "metadata": {},
   "outputs": [],
   "source": [
    "def update_dictionary(a_dictionary, key, value):\n",
    "    \"\"\" Add or update a value a dictionary entry\n",
    "    \"\"\"\n",
    "    if a_dictionary is not None:\n",
    "        a_dictionary[key] = value\n",
    "    return a_dictionary"
   ]
  },
  {
   "cell_type": "code",
   "execution_count": 42,
   "metadata": {},
   "outputs": [],
   "source": [
    "def main():\n",
    "    a_dictionary = { 'language': \"C\", 'number': 89, 'track': \"Low level\" }\n",
    "    new_dict = update_dictionary(a_dictionary, 'language', \"Python\")\n",
    "    print_sorted_dictionary(new_dict)\n",
    "    print(\"--\")\n",
    "    print_sorted_dictionary(a_dictionary)\n",
    "\n",
    "    print(\"--\")\n",
    "    print(\"--\")\n",
    "\n",
    "    new_dict = update_dictionary(a_dictionary, 'city', \"San Francisco\")\n",
    "    print_sorted_dictionary(new_dict)\n",
    "    print(\"--\")\n",
    "    print_sorted_dictionary(a_dictionary)"
   ]
  },
  {
   "cell_type": "code",
   "execution_count": 43,
   "metadata": {},
   "outputs": [],
   "source": [
    "tasks[7] = Task(update_dictionary, main=main)"
   ]
  },
  {
   "cell_type": "code",
   "execution_count": 44,
   "metadata": {
    "scrolled": true
   },
   "outputs": [
    {
     "name": "stdout",
     "output_type": "stream",
     "text": [
      "language: Python\n",
      "number: 89\n",
      "track: Low level\n",
      "--\n",
      "language: Python\n",
      "number: 89\n",
      "track: Low level\n",
      "--\n",
      "--\n",
      "city: San Francisco\n",
      "language: Python\n",
      "number: 89\n",
      "track: Low level\n",
      "--\n",
      "city: San Francisco\n",
      "language: Python\n",
      "number: 89\n",
      "track: Low level\n"
     ]
    }
   ],
   "source": [
    "tasks[7]()"
   ]
  },
  {
   "cell_type": "code",
   "execution_count": 113,
   "metadata": {
    "scrolled": false
   },
   "outputs": [
    {
     "data": {
      "text/plain": [
       "['a', 'b', 'c']"
      ]
     },
     "execution_count": 113,
     "metadata": {},
     "output_type": "execute_result"
    }
   ],
   "source": [
    "my_list = ['a', 'b', 'c']\n",
    "my_list"
   ]
  },
  {
   "cell_type": "code",
   "execution_count": 117,
   "metadata": {},
   "outputs": [
    {
     "data": {
      "text/plain": [
       "-1773435540458398521"
      ]
     },
     "execution_count": 117,
     "metadata": {},
     "output_type": "execute_result"
    }
   ],
   "source": [
    "hash(\"Hanh\")"
   ]
  },
  {
   "cell_type": "code",
   "execution_count": 115,
   "metadata": {},
   "outputs": [
    {
     "data": {
      "text/plain": [
       "['A', 'b', 'c']"
      ]
     },
     "execution_count": 115,
     "metadata": {},
     "output_type": "execute_result"
    }
   ],
   "source": [
    "my_list"
   ]
  },
  {
   "cell_type": "code",
   "execution_count": 45,
   "metadata": {},
   "outputs": [],
   "source": [
    "def simple_delete(a_dictionary, key=\"\"):\n",
    "    \"\"\" Delete a dictionary entry\n",
    "    \"\"\"\n",
    "    if a_dictionary is not None:\n",
    "        try:\n",
    "            del a_dictionary[key]\n",
    "        except KeyError:\n",
    "            pass\n",
    "        return a_dictionary\n",
    "    return None"
   ]
  },
  {
   "cell_type": "code",
   "execution_count": 46,
   "metadata": {},
   "outputs": [],
   "source": [
    "def main():\n",
    "    a_dictionary = { 'language': \"C\", 'Number': 89, 'track': \"Low\", 'ids': [1, 2, 3] }\n",
    "    new_dict = simple_delete(a_dictionary, 'track')\n",
    "    print_sorted_dictionary(a_dictionary)\n",
    "    print(\"--\")\n",
    "    print_sorted_dictionary(new_dict)\n",
    "\n",
    "    print(\"--\")\n",
    "    print(\"--\")\n",
    "    new_dict = simple_delete(a_dictionary, 'c_is_fun')\n",
    "    print_sorted_dictionary(a_dictionary)\n",
    "    print(\"--\")\n",
    "    print_sorted_dictionary(new_dict)"
   ]
  },
  {
   "cell_type": "code",
   "execution_count": 47,
   "metadata": {},
   "outputs": [],
   "source": [
    "tasks[8] = Task(simple_delete, main=main)"
   ]
  },
  {
   "cell_type": "code",
   "execution_count": 48,
   "metadata": {},
   "outputs": [
    {
     "name": "stdout",
     "output_type": "stream",
     "text": [
      "Number: 89\n",
      "ids: [1, 2, 3]\n",
      "language: C\n",
      "--\n",
      "Number: 89\n",
      "ids: [1, 2, 3]\n",
      "language: C\n",
      "--\n",
      "--\n",
      "Number: 89\n",
      "ids: [1, 2, 3]\n",
      "language: C\n",
      "--\n",
      "Number: 89\n",
      "ids: [1, 2, 3]\n",
      "language: C\n"
     ]
    }
   ],
   "source": [
    "tasks[8]()"
   ]
  },
  {
   "cell_type": "code",
   "execution_count": 103,
   "metadata": {},
   "outputs": [],
   "source": [
    "words = { \"hello\": 'a common greeting', 'goodbye': \"a common farewell\"}"
   ]
  },
  {
   "cell_type": "code",
   "execution_count": 105,
   "metadata": {},
   "outputs": [],
   "source": [
    "words[\"what's up\"] = \"a slang term for hello\""
   ]
  },
  {
   "cell_type": "code",
   "execution_count": 107,
   "metadata": {},
   "outputs": [],
   "source": [
    "key = 'batman'"
   ]
  },
  {
   "cell_type": "code",
   "execution_count": 108,
   "metadata": {},
   "outputs": [],
   "source": [
    "value = 'robin'"
   ]
  },
  {
   "cell_type": "code",
   "execution_count": 109,
   "metadata": {},
   "outputs": [],
   "source": [
    "words[key] = value"
   ]
  },
  {
   "cell_type": "code",
   "execution_count": 111,
   "metadata": {
    "scrolled": true
   },
   "outputs": [],
   "source": [
    "words[\"hello\"] = \"you\""
   ]
  },
  {
   "cell_type": "code",
   "execution_count": null,
   "metadata": {},
   "outputs": [],
   "source": [
    "words[\"h\"]"
   ]
  },
  {
   "cell_type": "code",
   "execution_count": null,
   "metadata": {},
   "outputs": [],
   "source": []
  },
  {
   "cell_type": "markdown",
   "metadata": {},
   "source": [
    "## 9. Multiply by 2\n",
    "\n",
    "Write a function that returns a new dictionary with all values multiplied by 2.\n",
    "\n",
    "`multiply_by_2(a_dictionary)`\n",
    "\n",
    "* You can assume that all values are only integers\n",
    "* Returns a new dictionary\n",
    "* You are not allowed to import any module"
   ]
  },
  {
   "cell_type": "code",
   "execution_count": 49,
   "metadata": {},
   "outputs": [],
   "source": [
    "def multiply_by_2(a_dictionary):\n",
    "    \"\"\" Create a new dictionary with all values doubled\n",
    "    \"\"\"\n",
    "    if a_dictionary is not None:\n",
    "        return {key: 2 * val for key, val in a_dictionary.items()}\n",
    "    return None"
   ]
  },
  {
   "cell_type": "code",
   "execution_count": 50,
   "metadata": {},
   "outputs": [],
   "source": [
    "def main():\n",
    "    a_dictionary = {'John': 12, 'Alex': 8, 'Bob': 14, 'Mike': 14, 'Molly': 16}\n",
    "    new_dict = multiply_by_2(a_dictionary)\n",
    "    print_sorted_dictionary(a_dictionary)\n",
    "    print(\"--\")\n",
    "    print_sorted_dictionary(new_dict)"
   ]
  },
  {
   "cell_type": "code",
   "execution_count": 51,
   "metadata": {},
   "outputs": [],
   "source": [
    "tasks[9] = Task(multiply_by_2, main=main)"
   ]
  },
  {
   "cell_type": "code",
   "execution_count": 52,
   "metadata": {
    "scrolled": true
   },
   "outputs": [
    {
     "name": "stdout",
     "output_type": "stream",
     "text": [
      "Alex: 8\n",
      "Bob: 14\n",
      "John: 12\n",
      "Mike: 14\n",
      "Molly: 16\n",
      "--\n",
      "Alex: 16\n",
      "Bob: 28\n",
      "John: 24\n",
      "Mike: 28\n",
      "Molly: 32\n"
     ]
    }
   ],
   "source": [
    "tasks[9]()"
   ]
  },
  {
   "cell_type": "markdown",
   "metadata": {},
   "source": [
    "## 10. Best score\n",
    "\n",
    "Write a function that returns a key with the biggest integer value.\n",
    "\n",
    "`best_score(a_dictionary)`\n",
    "\n",
    "* You can assume that all values are only integers\n",
    "* If no score found, return None\n",
    "* You can assume all students have a different score\n",
    "* You are not allowed to import any module"
   ]
  },
  {
   "cell_type": "code",
   "execution_count": 129,
   "metadata": {},
   "outputs": [],
   "source": [
    "def best_score(a_dictionary):\n",
    "    \"\"\" Retrieve the a key of the largest integer value\n",
    "    \"\"\"\n",
    "    if a_dictionary:\n",
    "        return max(a_dictionary, key=a_dictionary.get)\n",
    "    return None"
   ]
  },
  {
   "cell_type": "code",
   "execution_count": 130,
   "metadata": {},
   "outputs": [],
   "source": [
    "def main():\n",
    "    a_dictionary = {'John': 12, 'Bob': 14, 'Mike': 14, 'Molly': 16, 'Adam': 10}\n",
    "    best_key = best_score(a_dictionary)\n",
    "    print(\"Best score: {}\".format(best_key))\n",
    "    \n",
    "    best_key = best_score({'Ben': 100})\n",
    "    print(\"Best score: {}\".format(best_key))\n",
    " "
   ]
  },
  {
   "cell_type": "code",
   "execution_count": 120,
   "metadata": {
    "scrolled": true
   },
   "outputs": [
    {
     "name": "stdout",
     "output_type": "stream",
     "text": [
      "Best score: Molly\n",
      "Best score: Ben\n"
     ]
    }
   ],
   "source": [
    "tasks[10] = Task(best_score, main=main)\n",
    "tasks[10]()"
   ]
  },
  {
   "cell_type": "code",
   "execution_count": 128,
   "metadata": {},
   "outputs": [
    {
     "data": {
      "text/plain": [
       "16"
      ]
     },
     "execution_count": 128,
     "metadata": {},
     "output_type": "execute_result"
    }
   ],
   "source": [
    "max({'John': 12, 'Bob': 14, 'Bob': 0, 'Mike': 14, 'Molly': 16, 'Zed': 10}.items(), key=)"
   ]
  },
  {
   "cell_type": "markdown",
   "metadata": {},
   "source": [
    "## 11. Multiply by using map\n",
    "\n",
    "Write a function that returns a list with all values multiplied by a number without using any loops.\n",
    "\n",
    "`mutiply_list_map(my_list=[], number=0)`\n",
    "\n",
    "* Returns a new list:\n",
    "* Same length as my_list\n",
    "* Each value should be multiplied by number\n",
    "* Initial list should not be modified\n",
    "* You are not allowed to import any module\n",
    "* You have to use map\n",
    "* Your file should be max 3 lines"
   ]
  },
  {
   "cell_type": "code",
   "execution_count": 61,
   "metadata": {},
   "outputs": [],
   "source": [
    "def mutiply_list_map(my_list=[], number=0):\n",
    "    return None if list is None else list(map(lambda x: x * number, my_list))"
   ]
  },
  {
   "cell_type": "code",
   "execution_count": 62,
   "metadata": {},
   "outputs": [],
   "source": [
    "def main():\n",
    "    my_list = [1, 2, 3, 4, 6]\n",
    "    new_list = mutiply_list_map(my_list, 4)\n",
    "    print(new_list)\n",
    "    print(my_list)"
   ]
  },
  {
   "cell_type": "code",
   "execution_count": 63,
   "metadata": {},
   "outputs": [],
   "source": [
    "tasks[11] = Task(mutiply_list_map, main=main)"
   ]
  },
  {
   "cell_type": "code",
   "execution_count": 64,
   "metadata": {
    "scrolled": true
   },
   "outputs": [
    {
     "name": "stdout",
     "output_type": "stream",
     "text": [
      "[4, 8, 12, 16, 24]\n",
      "[1, 2, 3, 4, 6]\n"
     ]
    }
   ],
   "source": [
    "tasks[11]()"
   ]
  },
  {
   "cell_type": "markdown",
   "metadata": {},
   "source": [
    "## 12. Roman to Integer\n",
    "\n",
    "Technical interview preparation:\n",
    "\n",
    "You are not allowed to google anything.\n",
    "Whiteboard first.\n",
    "Create a function `roman_to_int(roman_string)` that converts a Roman numeral to an integer.\n",
    "\n",
    "You can assume the number will be between `1` to `3999`.\n",
    "`roman_to_int(roman_string)` must return an integer.\n",
    "If the roman_string is not a string or `None`, return `0`."
   ]
  },
  {
   "cell_type": "code",
   "execution_count": 458,
   "metadata": {
    "scrolled": true
   },
   "outputs": [],
   "source": [
    "def _reduce(fn, ls, init=0):\n",
    "    if ls:\n",
    "        return _reduce(fn, ls[1:], fn(init, ls[0]))\n",
    "    return init\n",
    "\n",
    "def roman_to_int(roman_string):\n",
    "    \"\"\" Convert a Roman numeral to an integer\n",
    "    \"\"\"\n",
    "    n2n = {\n",
    "        'I': 1,\n",
    "        'V': 5,\n",
    "        'X': 10,\n",
    "        'L': 50,\n",
    "        'C': 100,\n",
    "        'D': 500,\n",
    "    }\n",
    "    try:\n",
    "        return -1 * _reduce(\n",
    "            lambda r, l: r - l if r < l else r + l,\n",
    "            list(map(n2n.get, roman_string[::-1])),\n",
    "        )\n",
    "    except (KeyError, TypeError):\n",
    "        return 0"
   ]
  },
  {
   "cell_type": "code",
   "execution_count": 459,
   "metadata": {},
   "outputs": [],
   "source": [
    "def main():\n",
    "    \"\"\" Roman to Integer test file\n",
    "    \"\"\"\n",
    "    roman_number = \"X\"\n",
    "    print(\"{} = {}\".format(roman_number, roman_to_int(roman_number)))\n",
    "\n",
    "    roman_number = \"VII\"\n",
    "    print(\"{} = {}\".format(roman_number, roman_to_int(roman_number)))\n",
    "\n",
    "    roman_number = \"IX\"\n",
    "    print(\"{} = {}\".format(roman_number, roman_to_int(roman_number)))\n",
    "\n",
    "    roman_number = \"LXXXVII\"\n",
    "    print(\"{} = {}\".format(roman_number, roman_to_int(roman_number)))\n",
    "\n",
    "    roman_number = \"DCCVII\"\n",
    "    print(\"{} = {}\".format(roman_number, roman_to_int(roman_number)))\n",
    "    \n",
    "    roman_number = \"DCCVII\"\n",
    "    print(\"{} = {}\".format(roman_number, roman_to_int(roman_number)))"
   ]
  },
  {
   "cell_type": "code",
   "execution_count": 460,
   "metadata": {},
   "outputs": [
    {
     "name": "stdout",
     "output_type": "stream",
     "text": [
      "X = 10\n",
      "VII = 7\n",
      "IX = 11\n",
      "LXXXVII = 87\n",
      "DCCVII = 707\n",
      "DCCVII = 707\n"
     ]
    }
   ],
   "source": [
    "tasks[12] = Task(roman_to_int, main=main)\n",
    "tasks[12]()"
   ]
  },
  {
   "cell_type": "code",
   "execution_count": 454,
   "metadata": {},
   "outputs": [
    {
     "ename": "NameError",
     "evalue": "name 'reduce' is not defined",
     "output_type": "error",
     "traceback": [
      "\u001b[0;31m\u001b[0m",
      "\u001b[0;31mNameError\u001b[0mTraceback (most recent call last)",
      "\u001b[0;32m<ipython-input-454-05b84cf6d943>\u001b[0m in \u001b[0;36m<module>\u001b[0;34m\u001b[0m\n\u001b[0;32m----> 1\u001b[0;31m \u001b[0;32mdel\u001b[0m \u001b[0mreduce\u001b[0m\u001b[0;34m\u001b[0m\u001b[0;34m\u001b[0m\u001b[0m\n\u001b[0m",
      "\u001b[0;31mNameError\u001b[0m: name 'reduce' is not defined"
     ]
    }
   ],
   "source": [
    "del reduce"
   ]
  },
  {
   "cell_type": "code",
   "execution_count": 131,
   "metadata": {},
   "outputs": [],
   "source": [
    "m = map(lambda x: x, range(10))"
   ]
  },
  {
   "cell_type": "code",
   "execution_count": 132,
   "metadata": {
    "scrolled": true
   },
   "outputs": [
    {
     "ename": "AttributeError",
     "evalue": "'map' object has no attribute 'pop'",
     "output_type": "error",
     "traceback": [
      "\u001b[0;31m\u001b[0m",
      "\u001b[0;31mAttributeError\u001b[0mTraceback (most recent call last)",
      "\u001b[0;32m<ipython-input-132-aa1962429e27>\u001b[0m in \u001b[0;36m<module>\u001b[0;34m\u001b[0m\n\u001b[0;32m----> 1\u001b[0;31m \u001b[0mm\u001b[0m\u001b[0;34m.\u001b[0m\u001b[0mpop\u001b[0m\u001b[0;34m(\u001b[0m\u001b[0;34m)\u001b[0m\u001b[0;34m\u001b[0m\u001b[0;34m\u001b[0m\u001b[0m\n\u001b[0m",
      "\u001b[0;31mAttributeError\u001b[0m: 'map' object has no attribute 'pop'"
     ]
    }
   ],
   "source": []
  },
  {
   "cell_type": "code",
   "execution_count": 133,
   "metadata": {},
   "outputs": [
    {
     "ename": "IndexError",
     "evalue": "pop from empty list",
     "output_type": "error",
     "traceback": [
      "\u001b[0;31m\u001b[0m",
      "\u001b[0;31mIndexError\u001b[0mTraceback (most recent call last)",
      "\u001b[0;32m<ipython-input-133-47d711ddf6f1>\u001b[0m in \u001b[0;36m<module>\u001b[0;34m\u001b[0m\n\u001b[0;32m----> 1\u001b[0;31m \u001b[0;34m[\u001b[0m\u001b[0;34m]\u001b[0m\u001b[0;34m.\u001b[0m\u001b[0mpop\u001b[0m\u001b[0;34m(\u001b[0m\u001b[0;34m)\u001b[0m\u001b[0;34m\u001b[0m\u001b[0;34m\u001b[0m\u001b[0m\n\u001b[0m",
      "\u001b[0;31mIndexError\u001b[0m: pop from empty list"
     ]
    }
   ],
   "source": [
    "[].pop()"
   ]
  },
  {
   "cell_type": "code",
   "execution_count": 151,
   "metadata": {},
   "outputs": [],
   "source": [
    "ls = [1, 2]"
   ]
  },
  {
   "cell_type": "code",
   "execution_count": 152,
   "metadata": {},
   "outputs": [
    {
     "data": {
      "text/plain": [
       "(1,)"
      ]
     },
     "execution_count": 152,
     "metadata": {},
     "output_type": "execute_result"
    }
   ],
   "source": [
    "(lambda *args, arg: args)(*ls, arg=ls.pop())"
   ]
  },
  {
   "cell_type": "code",
   "execution_count": null,
   "metadata": {},
   "outputs": [],
   "source": []
  },
  {
   "cell_type": "code",
   "execution_count": null,
   "metadata": {},
   "outputs": [],
   "source": []
  }
 ],
 "metadata": {
  "kernelspec": {
   "display_name": "Python 3",
   "language": "python",
   "name": "python3"
  },
  "language_info": {
   "codemirror_mode": {
    "name": "ipython",
    "version": 3
   },
   "file_extension": ".py",
   "mimetype": "text/x-python",
   "name": "python",
   "nbconvert_exporter": "python",
   "pygments_lexer": "ipython3",
   "version": "3.7.3"
  }
 },
 "nbformat": 4,
 "nbformat_minor": 2
}
